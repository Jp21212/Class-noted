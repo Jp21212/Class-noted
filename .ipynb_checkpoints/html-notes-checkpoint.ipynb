{
 "cells": [
  {
   "cell_type": "code",
   "execution_count": null,
   "id": "670daf47-7f57-4abc-b2d8-e7f076042f80",
   "metadata": {},
   "outputs": [],
   "source": [
    "HTML notes"
   ]
  },
  {
   "cell_type": "code",
   "execution_count": null,
   "id": "fe24da94-b9c5-435a-a590-f8e9f195b36c",
   "metadata": {},
   "outputs": [],
   "source": [
    "1. HTML structure"
   ]
  },
  {
   "cell_type": "code",
   "execution_count": null,
   "id": "cc639323-9a61-4a3d-a842-cfb5ad4fc88a",
   "metadata": {},
   "outputs": [],
   "source": [
    "HTML is the standered language for creating a web pages. It uses a series of elements represented by tages like this:"
   ]
  },
  {
   "cell_type": "markdown",
   "id": "73138f62-1ee6-422a-938c-31c3541de056",
   "metadata": {},
   "source": [
    "<!Doctype html>\n",
    "<html>\n",
    "<head>\n",
    " <title>Page Title</title>\n",
    " </head>\n",
    " <body>\n",
    " <h1>This is heading</h1>\n",
    " <p>This is paragraph.</p>\n",
    " </body>\n",
    " </html>"
   ]
  },
  {
   "cell_type": "code",
   "execution_count": null,
   "id": "6a55b3a3-ccfd-44a6-a5e3-06329785036d",
   "metadata": {},
   "outputs": [],
   "source": [
    "Common HTML Tags\n",
    "HTML offers six levels of headings from <h1> to <h6> where <h1> is the highest (or most important) level\n",
    "<h1> Main headings</h1>\n",
    "<h2>Subhadings</h2>\n",
    "<h3>Sub-subheading</h3>"
   ]
  },
  {
   "cell_type": "code",
   "execution_count": null,
   "id": "132b9bd1-27a0-4489-b661-afbc260d3130",
   "metadata": {},
   "outputs": [],
   "source": [
    "Paragraphs are crated using <p> tag"
   ]
  },
  {
   "cell_type": "code",
   "execution_count": null,
   "id": "1f4dd66a-36fb-4a00-b827-ff1466b8d52e",
   "metadata": {},
   "outputs": [],
   "source": [
    "Links are created with the <a> tag. which includes href attrubute to specificy the URL\n",
    "<a href=\"https://example.com\">click here</a>"
   ]
  },
  {
   "cell_type": "code",
   "execution_count": null,
   "id": "b781a651-ede0-49d4-be22-ffe0a5957795",
   "metadata": {},
   "outputs": [],
   "source": [
    "Images are embedded using the <img> tag with src and alt attributes\n",
    "<img src=\"image.jpg\" alt=\"description of image\">"
   ]
  },
  {
   "cell_type": "code",
   "execution_count": null,
   "id": "478179ae-1185-4a02-9b98-5da247335113",
   "metadata": {},
   "outputs": [],
   "source": [
    "Unordered list\n",
    "<ul>\n",
    "    <li>Item 1</li>\n",
    "    <li>Item 2</li>\n",
    "    <li>Item 3</li>\n",
    "</ul>"
   ]
  },
  {
   "cell_type": "markdown",
   "id": "b2f3f52e-68c6-48b5-9d72-c4ae12104f4a",
   "metadata": {},
   "source": [
    "Ordered list\n",
    "<ol>\n",
    "    <li>First item</li>\n",
    "    <li>Second Item</li>\n",
    "    <li>Third Item</li>\n",
    "</ol>"
   ]
  },
  {
   "cell_type": "code",
   "execution_count": null,
   "id": "6dcefe1b-3a57-4fef-83d2-4e1b7f28133a",
   "metadata": {},
   "outputs": [],
   "source": [
    "Attributes\n",
    "HTML elements can have attributes, which provide additional information about the element. Attributes are always\n",
    "defined in the opening tag and uauslly come in name / value pairs. There are many differant types of attributes \n",
    "that can be applied to HTML tags."
   ]
  },
  {
   "cell_type": "code",
   "execution_count": null,
   "id": "15202dda-72ff-441a-8e49-f553bd86cb68",
   "metadata": {},
   "outputs": [],
   "source": [
    "<a href=\"https://example.com\" target = \"_blank\">Link</a>\n",
    "target=\"_blank\" Opens the link in a new tab\n",
    "href specifies the links destination"
   ]
  },
  {
   "cell_type": "markdown",
   "id": "caad5686-6373-47a4-a51e-6c99ec4c7ad9",
   "metadata": {},
   "source": [
    "4. Divs & Spans\n",
    "   <div>\n",
    "       <h1>Title</h1>\n",
    "       <p>This is inside a div.</p>\n",
    "   </div>"
   ]
  },
  {
   "cell_type": "code",
   "execution_count": null,
   "id": "45370549-a434-4721-b478-bbb4edb0a456",
   "metadata": {},
   "outputs": [],
   "source": [
    "5. Forms\n",
    "HTML forms collect user input. A form usually contains input, textarea, select, and button elements.\n",
    "<form actions=\"/submit\" method=\"post\">\n",
    "<label for=\"name\">Name:</label>\n",
    "<input type=\"text\" id=\"name\" name=\"name\">\n",
    "input type=\"submit\" value=\"submit\">\n",
    "</form>"
   ]
  },
  {
   "cell_type": "markdown",
   "id": "f6d8348a-d0a6-41c6-8f78-a378fae40c67",
   "metadata": {},
   "source": [
    "6. Semantic HTML"
   ]
  },
  {
   "cell_type": "code",
   "execution_count": null,
   "id": "80434d38-6beb-42af-b422-2a323aff1304",
   "metadata": {},
   "outputs": [],
   "source": [
    "<header> defines a heade section.\n",
    "<nav> Defines a navagatin bar.\n",
    "<section> Defines a section in a document\n",
    "<article> Defines independent content\n",
    "<footer> Defines a footer for a document or section"
   ]
  },
  {
   "cell_type": "code",
   "execution_count": null,
   "id": "cd9c2d3a-5b72-4c82-91c2-0f57d8f84a49",
   "metadata": {},
   "outputs": [],
   "source": []
  }
 ],
 "metadata": {
  "kernelspec": {
   "display_name": "Python 3 (ipykernel)",
   "language": "python",
   "name": "python3"
  },
  "language_info": {
   "codemirror_mode": {
    "name": "ipython",
    "version": 3
   },
   "file_extension": ".py",
   "mimetype": "text/x-python",
   "name": "python",
   "nbconvert_exporter": "python",
   "pygments_lexer": "ipython3",
   "version": "3.12.1"
  }
 },
 "nbformat": 4,
 "nbformat_minor": 5
}
